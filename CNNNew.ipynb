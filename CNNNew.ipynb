{
  "nbformat": 4,
  "nbformat_minor": 0,
  "metadata": {
    "colab": {
      "name": "CNNNew.ipynb",
      "provenance": [],
      "collapsed_sections": []
    },
    "kernelspec": {
      "name": "python3",
      "display_name": "Python 3"
    },
    "language_info": {
      "name": "python"
    }
  },
  "cells": [
    {
      "cell_type": "code",
      "metadata": {
        "id": "qG-DHU3Qfsg6"
      },
      "source": [
        "##Convolutional neural network"
      ],
      "execution_count": null,
      "outputs": []
    },
    {
      "cell_type": "code",
      "metadata": {
        "id": "XqOJAFW-fs6v"
      },
      "source": [
        "from __future__ import print_function\n",
        "import numpy as np\n",
        "np.random.seed(1337)  # for reproducibility\n",
        "\n",
        "\n",
        "from keras.preprocessing import sequence\n",
        "from keras.models import Sequential\n",
        "from keras.layers import Dense, Dropout, Activation, Lambda\n",
        "from keras.layers import Embedding\n",
        "from keras.layers import Convolution1D,MaxPooling1D, Flatten\n",
        "from keras.datasets import imdb\n",
        "from keras import backend as K\n",
        "from sklearn.metrics import accuracy_score,precision_score,cohen_kappa_score ,recall_score,roc_auc_score,fbeta_score\n",
        "\n",
        "import pandas as pd\n",
        "from google.colab import files\n",
        "from keras.utils.np_utils import to_categorical\n",
        "from sklearn.model_selection import train_test_split\n",
        "from sklearn.preprocessing import Normalizer\n",
        "from sklearn.metrics import classification_report\n",
        "from keras.models import Sequential\n",
        "from keras.layers import Convolution1D, Dense, Dropout, Flatten, MaxPooling1D\n",
        "from keras.utils import np_utils\n",
        "import numpy as np\n",
        "import h5py\n",
        "from keras import callbacks\n",
        "from keras.layers import LSTM, GRU, SimpleRNN\n",
        "from keras.callbacks import CSVLogger\n",
        "from keras.callbacks import ModelCheckpoint, EarlyStopping, ReduceLROnPlateau, CSVLogger"
      ],
      "execution_count": null,
      "outputs": []
    },
    {
      "cell_type": "code",
      "metadata": {
        "id": "S_qqmIiGfzxK"
      },
      "source": [
        "uploaded=files.upload()"
      ],
      "execution_count": null,
      "outputs": []
    },
    {
      "cell_type": "code",
      "metadata": {
        "id": "vv-SDohkf0ba"
      },
      "source": [
        "dataset = np.loadtxt(\"\", delimiter=\"|\")\n",
        "# split into input (X) and output (Y) variables\n",
        "X = dataset[:,0:1]\n",
        "Y = dataset[:,1]\n",
        "\n",
        "#normalize the data\n",
        "scaler = Normalizer().fit(X)\n",
        "X = scaler.transform(X)"
      ],
      "execution_count": null,
      "outputs": []
    },
    {
      "cell_type": "code",
      "metadata": {
        "id": "NaEAWkw5f4nJ"
      },
      "source": [
        "X_train, X_test, y_train, y_test = train_test_split(X, Y, test_size=0.33, random_state=42)"
      ],
      "execution_count": null,
      "outputs": []
    },
    {
      "cell_type": "code",
      "metadata": {
        "id": "AzWaBpWef5SJ"
      },
      "source": [
        "# reshape input to be [samples, time steps, features]\n",
        "X_train = np.reshape(X_train, (X_train.shape[0],X_train.shape[1],1))\n",
        "X_test = np.reshape(X_test, (X_test.shape[0],X_test.shape[1],1))"
      ],
      "execution_count": null,
      "outputs": []
    },
    {
      "cell_type": "code",
      "metadata": {
        "id": "X92Mmf8uf8Ch"
      },
      "source": [
        "cnn = Sequential()\n",
        "cnn.add(Convolution1D(64, 3, border_mode=\"same\",activation=\"relu\",input_shape=(30, 1)))\n",
        "cnn.add(MaxPooling1D(pool_length=(2)))\n",
        "cnn.add(Flatten())\n",
        "cnn.add(Dense(128, activation=\"relu\"))\n",
        "cnn.add(Dropout(0.5))\n",
        "cnn.add(Dense(1, activation=\"sigmoid\"))"
      ],
      "execution_count": null,
      "outputs": []
    },
    {
      "cell_type": "code",
      "metadata": {
        "id": "ZDW9d-vhgAhx"
      },
      "source": [
        "cnn.compile(loss=\"binary_crossentropy\", optimizer=\"adam\",metrics=['accuracy'])\n",
        "\n",
        "# train\n",
        "\n",
        "cnn.fit(X_train.shape[0], y_train.shape[0], nb_epoch=100, validation_data=(X_test, y_test))\n",
        "loss, accuracy = cnn.evaluate(X_test, y_test)\n",
        "pred=cnn.predict(X_test)\n",
        "y_pred = model.predict(X_test)\n",
        "print(classification_report(y_true, y_pred))\n",
        "print(confusion_matrix(X_test,y_test))\n",
        "precision=precision_score(X_test,y_test)\n",
        "reacall=recall_score(X_test,y_test)\n",
        "print(\"\\nprecision: \"% precision_score(y_test,pred,normalize=False))\n",
        "print(\"\\nrecall: \"% recall)\n",
        "print(\"\\nLoss: %.2f, Accuracy: %.2f%%\" % (loss, accuracy*100))"
      ],
      "execution_count": null,
      "outputs": []
    }
  ]
}